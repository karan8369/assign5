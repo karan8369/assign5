{
 "cells": [
  {
   "cell_type": "code",
   "execution_count": 1,
   "id": "c8cf1860",
   "metadata": {},
   "outputs": [
    {
     "name": "stdout",
     "output_type": "stream",
     "text": [
      "6\n",
      "<feed xml:lang='en'>\n",
      "<title>HackerRank</title>\n",
      "<subtitle lang='en'>Programming challenges</subtitle>\n",
      "<link rel='alternate' type='text/html' href='http://hackerrank.com/'/>\n",
      "<updated>2013-12-25T12:00:00</updated>\n",
      "</feed>\n",
      "5\n"
     ]
    }
   ],
   "source": [
    "import xml.etree.ElementTree as etree\n",
    "n = int(input())\n",
    "xml_lines = \"\"\n",
    "for _ in range(n):\n",
    "    xml_lines += input()\n",
    "root = etree.ElementTree(etree.fromstring(xml_lines)).getroot()\n",
    "def calc_score(element):\n",
    "    score = len(element.attrib)\n",
    "    for child in element:\n",
    "        score += calc_score(child)\n",
    "    return score\n",
    "result = calc_score(root)\n",
    "print(result)"
   ]
  }
 ],
 "metadata": {
  "kernelspec": {
   "display_name": "Python 3 (ipykernel)",
   "language": "python",
   "name": "python3"
  },
  "language_info": {
   "codemirror_mode": {
    "name": "ipython",
    "version": 3
   },
   "file_extension": ".py",
   "mimetype": "text/x-python",
   "name": "python",
   "nbconvert_exporter": "python",
   "pygments_lexer": "ipython3",
   "version": "3.10.9"
  }
 },
 "nbformat": 4,
 "nbformat_minor": 5
}
